{
 "cells": [
  {
   "cell_type": "markdown",
   "metadata": {},
   "source": [
    "Chuẩn bị các thư viện cần dùng (Prepare for using libraries):\n"
   ]
  },
  {
   "cell_type": "code",
   "execution_count": 1,
   "metadata": {},
   "outputs": [],
   "source": [
    "import numpy as np\n",
    "import matplotlib.pyplot as plt\n",
    "import pandas as pd\n",
    "from LinearModel import *"
   ]
  },
  {
   "cell_type": "markdown",
   "metadata": {},
   "source": [
    "# Linear Model From Scratch:\n",
    "## Mở đầu (Preface):\n",
    "Notebook này tôi xin trình bày về các kiến thức đã học được về các mô hình tuyến tính phổ biến hiện nay, đó là Liner Regression,  Polynomial Regression, Logistic Regression và Softmax Regression, cũng như cách chuẩn hóa mô hình tuyến tính và trình bày giải thuật tối ưu hóa đang được sử dụng rộng rãi là Gradient Descent (Xuống dốc). Phần notebook này không trình bày các kiến thức về SVMs, mặc dù SVM được coi là một mô hình tuyến tính, tuy nhiên tôi sẽ tìm hiểu riêng trong một notebook khác.\n",
    "\n",
    "(*The contents covering in this notebook include my knowledges about some popular linear models such as Linear Regression, Polynomial Regression, Logistic Regression, and Softmax Regression. This notebook also includes the contents about the Gradient Descent - A optimizing algorithm that be used various nowadays. Note that the SVMs are not presented in this notebook and will be cover in a future notebook*)\n"
   ]
  },
  {
   "cell_type": "markdown",
   "metadata": {},
   "source": [
    "## 1 Mô hình Linear Regression (Linear Regression):"
   ]
  },
  {
   "cell_type": "markdown",
   "metadata": {},
   "source": [
    "### 1.1 Khởi tạo training set (Initialize the training set):\n",
    "\n",
    "`X` có dạng `(x0, x1)`, ở đây ta lấy `x0 = 0`\n",
    "\n",
    "`y` có dạng phương trình: $$y = x_0p_0 + x_1p_1$$, với `p0`, `p1` là hệ số của phương trình, `noise` biểu thị độ nhiễu (độ tản mát) của tập dữ liệu"
   ]
  },
  {
   "cell_type": "code",
   "execution_count": 3,
   "metadata": {},
   "outputs": [
    {
     "data": {
      "text/plain": [
       "(100, 1)"
      ]
     },
     "execution_count": 3,
     "metadata": {},
     "output_type": "execute_result"
    }
   ],
   "source": [
    "X = 2 * np.random.rand(100, 1)\n",
    "X_new = np.c_[np.ones((100, 1)), X]\n",
    "y = X_new.dot(np.array([[4],[3]])) + np.random.randn(100, 1)\n",
    "\n",
    "X.shape"
   ]
  },
  {
   "cell_type": "markdown",
   "metadata": {},
   "source": [
    "Vẽ lược đồ biểu diễn dữ liệu (Draw a figure that represents the data)"
   ]
  },
  {
   "cell_type": "code",
   "execution_count": 13,
   "metadata": {},
   "outputs": [
    {
     "data": {
      "image/png": "[encoded data removed]",
      "text/plain": [
       "<Figure size 640x480 with 1 Axes>"
      ]
     },
     "metadata": {},
     "output_type": "display_data"
    }
   ],
   "source": [
    "plt.plot(X, y, \"ob\")\n",
    "plt.title(\"Linear Dataset Example\")\n",
    "plt.axis((0, 2, 0, 12))\n",
    "plt.xlabel(\"X1\")\n",
    "plt.show()"
   ]
  },
  {
   "cell_type": "markdown",
   "metadata": {},
   "source": [
    "### 1.2 Huấn luyện mô hình Linear Regression tự chế, sử dụng giải thuật Gradient Descent"
   ]
  },
  {
   "cell_type": "markdown",
   "metadata": {},
   "source": [
    "#### 1.2.1 Mô hình Linear Regression\n",
    "Ở đây tôi sử dụng mô hình Linear Regression dạng cơ bản, có công thức là: $$\\hat{y} = \\theta^T \\cdot \\bold{x}$$, trong đó:\n",
    "* $\\hat{y}$ là kết quả dự đoán\n",
    "* $\\bold{\\theta} = (\\theta_0, \\theta_1, ... \\theta_{n-1})$ là tham số mô hình. Có tất cả n tham số.\n",
    "* $\\bold{x} = (x_0, x_1, x_2, ...x_{m-1})$ là một đối tượng huấn luyện. Mỗi đối tượng huấn luyện có m thuộc tính, trong đó thuộc tính $x_0 = 1$.\n",
    "\n",
    "Hàm mất mát sử dụng để huấn luyện mô hình là Mean Square Error - MSE:\n",
    "$$ \\text{MSE}(\\bold{\\theta}) = \\frac{1}{m}\\sum^m_{i = 1}{(\\bold{\\theta}^T\\cdot\\bold{x}_i - \\hat{y}_i)^2}$$"
   ]
  },
  {
   "cell_type": "markdown",
   "metadata": {},
   "source": [
    "#### 1.2.2 Huấn luyện mô hình:\n",
    "\n",
    "Sử dụng mô hình tự cài đặt để huấn luyện mô hình theo giải thuật Batch Gradient Descent"
   ]
  },
  {
   "cell_type": "code",
   "execution_count": 14,
   "metadata": {},
   "outputs": [
    {
     "name": "stdout",
     "output_type": "stream",
     "text": [
      "Epoch 0: After Loss = 18.03471857600466\n",
      "Epoch 1: After Loss = 6.056941893322486\n",
      "Epoch 2: After Loss = 2.631864990824778\n",
      "Epoch 3: After Loss = 1.6425115337100737\n",
      "Epoch 4: After Loss = 1.347430387615209\n",
      "Epoch 5: After Loss = 1.250808766347944\n",
      "Epoch 6: After Loss = 1.2114483526914408\n",
      "Epoch 7: After Loss = 1.1891062978083593\n",
      "Epoch 8: After Loss = 1.1722827903682096\n",
      "Epoch 9: After Loss = 1.1576632800231312\n",
      "Epoch 10: After Loss = 1.1442658816578537\n",
      "Epoch 11: After Loss = 1.131775095279517\n",
      "Epoch 12: After Loss = 1.1200673052800243\n",
      "Epoch 13: After Loss = 1.1090755667779069\n",
      "Epoch 14: After Loss = 1.0987509889818552\n",
      "Epoch 15: After Loss = 1.089051625507948\n",
      "Epoch 16: After Loss = 1.0799392024721333\n",
      "Epoch 17: After Loss = 1.0713780844639187\n",
      "Epoch 18: After Loss = 1.063334883810492\n",
      "Epoch 19: After Loss = 1.0557782588039886\n",
      "Epoch 20: After Loss = 1.0486787712002632\n",
      "Epoch 21: After Loss = 1.042008765736902\n",
      "Epoch 22: After Loss = 1.035742260754123\n",
      "Epoch 23: After Loss = 1.029854846518432\n",
      "Epoch 24: After Loss = 1.0243235900062848\n",
      "Epoch 25: After Loss = 1.0191269455358476\n",
      "Epoch 26: After Loss = 1.014244670830125\n",
      "Epoch 27: After Loss = 1.009657748164957\n",
      "Epoch 28: After Loss = 1.005348310289175\n",
      "Epoch 29: After Loss = 1.0012995708267902\n",
      "Epoch 30: After Loss = 0.997495758889638\n",
      "Epoch 31: After Loss = 0.9939220576456684\n",
      "Epoch 32: After Loss = 0.9905645466035452\n",
      "Epoch 33: After Loss = 0.987410147388724\n",
      "Epoch 34: After Loss = 0.984446572799801\n",
      "Epoch 35: After Loss = 0.9816622789466822\n",
      "Epoch 36: After Loss = 0.9790464202841433\n",
      "Epoch 37: After Loss = 0.9765888073656231\n",
      "Epoch 38: After Loss = 0.9742798671526935\n",
      "Epoch 39: After Loss = 0.972110605725595\n",
      "Epoch 40: After Loss = 0.9700725732495943\n",
      "Epoch 41: After Loss = 0.9681578310606855\n",
      "Epoch 42: After Loss = 0.9663589207424466\n",
      "Epoch 43: After Loss = 0.9646688350735702\n",
      "Epoch 44: After Loss = 0.963080990732927\n",
      "Epoch 45: After Loss = 0.9615892026558224\n",
      "Epoch 46: After Loss = 0.9601876599415742\n",
      "Epoch 47: After Loss = 0.9588709032185436\n",
      "Epoch 48: After Loss = 0.9576338033784761\n",
      "Epoch 49: After Loss = 0.9564715415972919\n",
      "Epoch 50: After Loss = 0.9553795905645208\n",
      "Epoch 51: After Loss = 0.9543536968482589\n",
      "Epoch 52: After Loss = 0.9533898643269458\n",
      "Epoch 53: After Loss = 0.9524843386234392\n",
      "Epoch 54: After Loss = 0.9516335924807443\n",
      "Epoch 55: After Loss = 0.9508343120224346\n",
      "Epoch 56: After Loss = 0.9500833838442445\n",
      "Epoch 57: After Loss = 0.9493778828865561\n",
      "Epoch 58: After Loss = 0.9487150610405308\n",
      "Epoch 59: After Loss = 0.948092336443519\n",
      "Epoch 60: After Loss = 0.9475072834220346\n",
      "Epoch 61: After Loss = 0.9469576230431264\n",
      "Epoch 62: After Loss = 0.9464412142373498\n",
      "Epoch 63: After Loss = 0.9459560454587426\n",
      "Epoch 64: After Loss = 0.9455002268493334\n",
      "Epoch 65: After Loss = 0.9450719828776588\n",
      "Epoch 66: After Loss = 0.944669645422605\n",
      "Epoch 67: After Loss = 0.9442916472756473\n",
      "Epoch 68: After Loss = 0.9439365160361638\n",
      "Epoch 69: After Loss = 0.943602868376057\n",
      "Epoch 70: After Loss = 0.9432894046513337\n",
      "Epoch 71: After Loss = 0.942994903839649\n",
      "Epoch 72: After Loss = 0.9427182187841162\n",
      "Epoch 73: After Loss = 0.9424582717248288\n",
      "Epoch 74: After Loss = 0.9422140501007088\n",
      "Epoch 75: After Loss = 0.9419846026053159\n",
      "Epoch 76: After Loss = 0.9417690354812673\n",
      "Epoch 77: After Loss = 0.9415665090388202\n",
      "Epoch 78: After Loss = 0.94137623438506\n",
      "Epoch 79: After Loss = 0.9411974703509611\n",
      "Epoch 80: After Loss = 0.9410295206043411\n",
      "Epoch 81: After Loss = 0.9408717309374651\n",
      "Epoch 82: After Loss = 0.9407234867187393\n",
      "Epoch 83: After Loss = 0.9405842104985639\n",
      "Epoch 84: After Loss = 0.9404533597600085\n",
      "Epoch 85: After Loss = 0.9403304248055799\n",
      "Epoch 86: After Loss = 0.9402149267718107\n",
      "Epoch 87: After Loss = 0.9401064157639648\n",
      "Epoch 88: After Loss = 0.9400044691035813\n",
      "Epoch 89: After Loss = 0.9399086896820289\n",
      "Epoch 90: After Loss = 0.9398187044136701\n",
      "Epoch 91: After Loss = 0.9397341627825948\n",
      "Epoch 92: After Loss = 0.9396547354772672\n",
      "Epoch 93: After Loss = 0.9395801131077746\n",
      "Epoch 94: After Loss = 0.9395100050006724\n",
      "Epoch 95: After Loss = 0.9394441380667397\n",
      "Epoch 96: After Loss = 0.9393822557372177\n",
      "Epoch 97: After Loss = 0.9393241169644151\n",
      "Epoch 98: After Loss = 0.9392694952827664\n",
      "Epoch 99: After Loss = 0.939218177926682\n",
      "Epoch 100: After Loss = 0.9391699650017782\n",
      "Epoch 101: After Loss = 0.9391246687062323\n",
      "Epoch 102: After Loss = 0.9390821125992499\n",
      "Epoch 103: After Loss = 0.939042130913779\n",
      "Epoch 104: After Loss = 0.9390045679108053\n",
      "Epoch 105: After Loss = 0.938969277272712\n",
      "Epoch 106: After Loss = 0.9389361215333274\n",
      "Epoch 107: After Loss = 0.9389049715424643\n",
      "Epoch 108: After Loss = 0.9388757059628479\n",
      "Epoch 109: After Loss = 0.938848210797469\n",
      "Epoch 110: After Loss = 0.938822378945542\n",
      "Epoch 111: After Loss = 0.9387981097853184\n",
      "Epoch 112: After Loss = 0.9387753087821362\n",
      "Epoch 113: After Loss = 0.9387538871201863\n",
      "Epoch 114: After Loss = 0.9387337613565525\n",
      "Epoch 115: After Loss = 0.9387148530961753\n",
      "Epoch 116: After Loss = 0.9386970886864867\n",
      "Epoch 117: After Loss = 0.9386803989305113\n",
      "Epoch 118: After Loss = 0.9386647188173326\n",
      "Epoch 119: After Loss = 0.9386499872688482\n",
      "Epoch 120: After Loss = 0.9386361469018664\n",
      "Epoch 121: After Loss = 0.9386231438045728\n",
      "Epoch 122: After Loss = 0.9386109273265406\n",
      "Epoch 123: After Loss = 0.9385994498814237\n",
      "Epoch 124: After Loss = 0.938588666761604\n",
      "Epoch 125: After Loss = 0.9385785359640384\n",
      "Epoch 126: After Loss = 0.9385690180266483\n",
      "Epoch 127: After Loss = 0.9385600758746034\n",
      "Epoch 128: After Loss = 0.9385516746759061\n",
      "Epoch 129: After Loss = 0.9385437817057156\n",
      "Epoch 130: After Loss = 0.9385363662188689\n",
      "Epoch 131: After Loss = 0.9385293993301236\n",
      "Epoch 132: After Loss = 0.9385228539016472\n",
      "Epoch 133: After Loss = 0.9385167044373002\n",
      "Epoch 134: After Loss = 0.9385109269833286\n",
      "Epoch 135: After Loss = 0.9385054990350529\n",
      "Epoch 136: After Loss = 0.9385003994492088\n",
      "Epoch 137: After Loss = 0.9384956083615907\n",
      "Epoch 138: After Loss = 0.9384911071096721\n",
      "Epoch 139: After Loss = 0.9384868781599117\n",
      "Epoch 140: After Loss = 0.9384829050394555\n",
      "Epoch 141: After Loss = 0.9384791722719696\n",
      "Epoch 142: After Loss = 0.938475665317361\n",
      "Epoch 143: After Loss = 0.9384723705151321\n",
      "Epoch 144: After Loss = 0.938469275031176\n",
      "Epoch 145: After Loss = 0.9384663668077807\n",
      "Epoch 146: After Loss = 0.9384636345166649\n",
      "Epoch 147: After Loss = 0.9384610675148461\n",
      "Epoch 148: After Loss = 0.9384586558031888\n",
      "Epoch 149: After Loss = 0.9384563899874507\n",
      "Epoch 150: After Loss = 0.9384542612416933\n",
      "Epoch 151: After Loss = 0.9384522612739022\n",
      "Epoch 152: After Loss = 0.9384503822936834\n",
      "Epoch 153: After Loss = 0.9384486169819239\n",
      "Epoch 154: After Loss = 0.9384469584622765\n",
      "Epoch 155: After Loss = 0.9384454002743783\n",
      "Epoch 156: After Loss = 0.938443936348685\n",
      "Epoch 157: After Loss = 0.9384425609828259\n",
      "Epoch 158: After Loss = 0.9384412688193959\n",
      "Epoch 159: After Loss = 0.9384400548250826\n",
      "Epoch 160: After Loss = 0.9384389142710656\n",
      "Epoch 161: After Loss = 0.9384378427145903\n",
      "Epoch 162: After Loss = 0.9384368359816686\n"
     ]
    },
    {
     "data": {
      "text/plain": [
       "array([[4.04506851],\n",
       "       [2.94135688]])"
      ]
     },
     "execution_count": 14,
     "metadata": {},
     "output_type": "execute_result"
    }
   ],
   "source": [
    "model = MyLinearRegression(eta = 0.1)\n",
    "model.fit_with_BGD(X, y)\n",
    "model.coef"
   ]
  },
  {
   "cell_type": "markdown",
   "metadata": {},
   "source": [
    "**Nhận xét**: Sau 162 Epoch thì mô hình tìm được kết quả với hai tham số $\\theta_0 = 4.045$ và $\\theta_1 = 2.941$, hai kết quả này tương đối sát với tham số thực tế (4,3). 1 Epoch là một lần mô hình duyệt qua toàn bộ tập huấn luyện. "
   ]
  },
  {
   "cell_type": "markdown",
   "metadata": {},
   "source": [
    "Dự đoán một giá trị X bất kỳ:\n",
    "\n",
    "Chọn $X_{test} = 10$, ta tính được kết quả mong muốn khoảng $34$"
   ]
  },
  {
   "cell_type": "code",
   "execution_count": 15,
   "metadata": {},
   "outputs": [
    {
     "data": {
      "text/plain": [
       "array([[33.45863734]])"
      ]
     },
     "execution_count": 15,
     "metadata": {},
     "output_type": "execute_result"
    }
   ],
   "source": [
    "X_test = np.array([[10]])\n",
    "model.predict(X_test)"
   ]
  },
  {
   "cell_type": "markdown",
   "metadata": {},
   "source": [
    "Lập đồ thị biến thiên của hàm mất mát theo số lượng epoch:"
   ]
  }
 ],
 "metadata": {
  "kernelspec": {
   "display_name": "Python 3",
   "language": "python",
   "name": "python3"
  },
  "language_info": {
   "codemirror_mode": {
    "name": "ipython",
    "version": 3
   },
   "file_extension": ".py",
   "mimetype": "text/x-python",
   "name": "python",
   "nbconvert_exporter": "python",
   "pygments_lexer": "ipython3",
   "version": "3.11.1"
  },
  "orig_nbformat": 4
 },
 "nbformat": 4,
 "nbformat_minor": 2
}
